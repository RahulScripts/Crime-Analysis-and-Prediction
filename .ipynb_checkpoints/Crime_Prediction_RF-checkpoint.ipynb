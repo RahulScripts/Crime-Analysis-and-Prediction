{
 "cells": [
  {
   "cell_type": "markdown",
   "id": "b30dae0c",
   "metadata": {},
   "source": [
    "\n",
    "# Crime Prediction Project\n",
    "**Objective:** Predict whether a crime will occur based on location and shift using Machine Learning models.  \n",
    "**Dataset:** Crime Incidents Dataset (2024)\n"
   ]
  },
  {
   "cell_type": "markdown",
   "id": "1c1514f8",
   "metadata": {},
   "source": [
    "## Dataset Overview and Loading"
   ]
  },
  {
   "cell_type": "code",
   "execution_count": null,
   "id": "ef7f1135",
   "metadata": {},
   "outputs": [],
   "source": [
    "\n",
    "import pandas as pd\n",
    "import numpy as np\n",
    "import matplotlib.pyplot as plt\n",
    "import seaborn as sns\n",
    "\n",
    "# Load the dataset\n",
    "df = pd.read_csv('A_train_balanced.csv')\n",
    "df.head()\n"
   ]
  },
  {
   "cell_type": "markdown",
   "id": "9401db35",
   "metadata": {},
   "source": [
    "## Exploratory Data Analysis (EDA)"
   ]
  },
  {
   "cell_type": "code",
   "execution_count": null,
   "id": "c07900d8",
   "metadata": {},
   "outputs": [],
   "source": [
    "\n",
    "# Check for nulls\n",
    "df.isnull().sum()\n"
   ]
  },
  {
   "cell_type": "code",
   "execution_count": null,
   "id": "c4be99ea",
   "metadata": {},
   "outputs": [],
   "source": [
    "\n",
    "# Visualizing Crime vs No Crime Count\n",
    "sns.countplot(x='crime_label', data=df, palette='magma')\n",
    "plt.title(\"Crime vs No Crime Distribution\")\n",
    "plt.xlabel(\"Label (0 = No Crime, 1 = Crime)\")\n",
    "plt.ylabel(\"Count\")\n",
    "plt.show()\n"
   ]
  },
  {
   "cell_type": "code",
   "execution_count": null,
   "id": "18af74d4",
   "metadata": {},
   "outputs": [],
   "source": [
    "\n",
    "# Correlation heatmap\n",
    "plt.figure(figsize=(10,6))\n",
    "sns.heatmap(df.corr(), annot=True, cmap='coolwarm')\n",
    "plt.title('Feature Correlation Heatmap')\n",
    "plt.show()\n"
   ]
  },
  {
   "cell_type": "markdown",
   "id": "7e99df8f",
   "metadata": {},
   "source": [
    "## Random Forest Model - Feature Importance"
   ]
  },
  {
   "cell_type": "code",
   "execution_count": null,
   "id": "58022d83",
   "metadata": {},
   "outputs": [],
   "source": [
    "\n",
    "from sklearn.ensemble import RandomForestClassifier\n",
    "from sklearn.model_selection import train_test_split\n",
    "from sklearn.preprocessing import LabelEncoder\n",
    "from sklearn.metrics import classification_report, confusion_matrix, ConfusionMatrixDisplay, accuracy_score\n",
    "\n",
    "features = ['SHIFT', 'DISTRICT', 'WARD', 'PSA', 'BLOCK']\n",
    "target = 'crime_label'\n",
    "\n",
    "# Label Encoding\n",
    "for col in features:\n",
    "    le = LabelEncoder()\n",
    "    df[col] = le.fit_transform(df[col].astype(str))\n",
    "\n",
    "X = df[features]\n",
    "y = df[target]\n",
    "\n",
    "# Split data\n",
    "X_train, X_val, y_train, y_val = train_test_split(X, y, test_size=0.2, random_state=42)\n",
    "\n",
    "# Train Random Forest\n",
    "rf = RandomForestClassifier(n_estimators=100, random_state=42)\n",
    "rf.fit(X_train, y_train)\n",
    "\n",
    "# Feature importance plot\n",
    "importances = rf.feature_importances_\n",
    "feature_names = X.columns\n",
    "sns.barplot(x=importances, y=feature_names, palette=\"viridis\")\n",
    "plt.title(\"Feature Importance - Random Forest\")\n",
    "plt.show()\n"
   ]
  },
  {
   "cell_type": "markdown",
   "id": "3e5c50c3",
   "metadata": {},
   "source": [
    "## Random Forest Model - Evaluation"
   ]
  },
  {
   "cell_type": "code",
   "execution_count": null,
   "id": "1c9aefc7",
   "metadata": {},
   "outputs": [],
   "source": [
    "\n",
    "# Prediction and Evaluation\n",
    "y_pred = rf.predict(X_val)\n",
    "print(\"Random Forest Classification Report:\")\n",
    "print(classification_report(y_val, y_pred))\n",
    "\n",
    "cm = confusion_matrix(y_val, y_pred)\n",
    "disp = ConfusionMatrixDisplay(confusion_matrix=cm, display_labels=['No Crime', 'Crime'])\n",
    "disp.plot(cmap='Blues')\n",
    "plt.title(\"Random Forest - Confusion Matrix\")\n",
    "plt.show()\n",
    "\n",
    "accuracy = accuracy_score(y_val, y_pred)\n",
    "print(\"Random Forest Accuracy:\", accuracy)\n",
    "plt.bar([\"Random Forest\"], [accuracy], color='green')\n",
    "plt.ylim(0, 1)\n",
    "plt.title(\"Random Forest - Accuracy Score\")\n",
    "plt.ylabel(\"Accuracy\")\n",
    "plt.show()\n"
   ]
  },
  {
   "cell_type": "markdown",
   "id": "7d7021a2",
   "metadata": {},
   "source": [
    "## Conclusion / Observations"
   ]
  },
  {
   "cell_type": "markdown",
   "id": "ef5fdf7a",
   "metadata": {},
   "source": [
    "\n",
    "- The Random Forest model performed well in predicting crime based on location and shift.\n",
    "- Accuracy achieved is shown above.\n",
    "- Feature importance shows that 'SHIFT' and 'DISTRICT' significantly contribute to predictions.\n",
    "\n",
    "**Next Steps:** Repeat similar analysis with Logistic Regression and XGBoost Models.\n"
   ]
  }
 ],
 "metadata": {},
 "nbformat": 4,
 "nbformat_minor": 5
}
