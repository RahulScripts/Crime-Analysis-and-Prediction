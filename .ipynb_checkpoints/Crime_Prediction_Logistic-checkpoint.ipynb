{
 "cells": [
  {
   "cell_type": "markdown",
   "id": "7d8f326f",
   "metadata": {},
   "source": [
    "\n",
    "# Crime Prediction Project - Logistic Regression Model\n",
    "**Objective:** Predict whether a crime will occur based on location and shift using Logistic Regression.  \n",
    "**Dataset:** Crime Incidents Dataset (2024)\n"
   ]
  },
  {
   "cell_type": "markdown",
   "id": "06ec76c6",
   "metadata": {},
   "source": [
    "## Dataset Overview and Loading"
   ]
  },
  {
   "cell_type": "code",
   "execution_count": null,
   "id": "84a8efd2",
   "metadata": {},
   "outputs": [],
   "source": [
    "\n",
    "import pandas as pd\n",
    "import numpy as np\n",
    "import matplotlib.pyplot as plt\n",
    "import seaborn as sns\n",
    "from sklearn.linear_model import LogisticRegression\n",
    "from sklearn.model_selection import train_test_split\n",
    "from sklearn.preprocessing import LabelEncoder\n",
    "from sklearn.metrics import classification_report, confusion_matrix, ConfusionMatrixDisplay, accuracy_score\n",
    "\n",
    "# Load the dataset\n",
    "df = pd.read_csv('A_train_balanced.csv')\n",
    "df.head()\n"
   ]
  },
  {
   "cell_type": "markdown",
   "id": "e5ccbbfc",
   "metadata": {},
   "source": [
    "## Exploratory Data Analysis (EDA)"
   ]
  },
  {
   "cell_type": "code",
   "execution_count": null,
   "id": "e43c47f8",
   "metadata": {},
   "outputs": [],
   "source": [
    "\n",
    "# Check for nulls\n",
    "df.isnull().sum()\n"
   ]
  },
  {
   "cell_type": "code",
   "execution_count": null,
   "id": "014cfd08",
   "metadata": {},
   "outputs": [],
   "source": [
    "\n",
    "# Target distribution\n",
    "sns.countplot(x='crime_label', data=df, palette='magma')\n",
    "plt.title(\"Crime vs No Crime Distribution\")\n",
    "plt.xlabel(\"Label (0 = No Crime, 1 = Crime)\")\n",
    "plt.ylabel(\"Count\")\n",
    "plt.show()\n"
   ]
  },
  {
   "cell_type": "markdown",
   "id": "ebca118a",
   "metadata": {},
   "source": [
    "## Logistic Regression Model - Training and Evaluation"
   ]
  },
  {
   "cell_type": "code",
   "execution_count": null,
   "id": "dc6503f5",
   "metadata": {},
   "outputs": [],
   "source": [
    "\n",
    "features = ['SHIFT', 'DISTRICT', 'WARD', 'PSA', 'BLOCK']\n",
    "target = 'crime_label'\n",
    "\n",
    "# Encode categorical variables\n",
    "for col in features:\n",
    "    le = LabelEncoder()\n",
    "    df[col] = le.fit_transform(df[col].astype(str))\n",
    "\n",
    "X = df[features]\n",
    "y = df[target]\n",
    "\n",
    "# Split dataset\n",
    "X_train, X_val, y_train, y_val = train_test_split(X, y, test_size=0.2, random_state=42)\n",
    "\n",
    "# Train Logistic Regression\n",
    "lr = LogisticRegression(max_iter=200)\n",
    "lr.fit(X_train, y_train)\n",
    "\n",
    "# Evaluation\n",
    "y_pred = lr.predict(X_val)\n",
    "print(\"Logistic Regression Classification Report:\")\n",
    "print(classification_report(y_val, y_pred))\n",
    "\n",
    "cm = confusion_matrix(y_val, y_pred)\n",
    "disp = ConfusionMatrixDisplay(confusion_matrix=cm, display_labels=['No Crime', 'Crime'])\n",
    "disp.plot(cmap='Blues')\n",
    "plt.title(\"Logistic Regression - Confusion Matrix\")\n",
    "plt.show()\n",
    "\n",
    "accuracy = accuracy_score(y_val, y_pred)\n",
    "print(\"Logistic Regression Accuracy:\", accuracy)\n",
    "\n",
    "plt.bar([\"Logistic Regression\"], [accuracy], color='orange')\n",
    "plt.ylim(0, 1)\n",
    "plt.title(\"Logistic Regression - Accuracy Score\")\n",
    "plt.ylabel(\"Accuracy\")\n",
    "plt.show()\n"
   ]
  },
  {
   "cell_type": "markdown",
   "id": "aa06e03c",
   "metadata": {},
   "source": [
    "## Conclusion / Observations"
   ]
  },
  {
   "cell_type": "markdown",
   "id": "07081dcd",
   "metadata": {},
   "source": [
    "\n",
    "- Logistic Regression model provides a good baseline for binary classification.\n",
    "- Accuracy and confusion matrix are displayed above.\n",
    "- The model is interpretable and shows how each feature affects the prediction.\n"
   ]
  }
 ],
 "metadata": {},
 "nbformat": 4,
 "nbformat_minor": 5
}
