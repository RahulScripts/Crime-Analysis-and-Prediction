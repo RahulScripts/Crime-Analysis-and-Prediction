{
 "cells": [
  {
   "cell_type": "markdown",
   "id": "0142e0de",
   "metadata": {},
   "source": [
    "## Crime Prediction using Random Forest Classifier"
   ]
  },
  {
   "cell_type": "code",
   "execution_count": null,
   "id": "d1d99e5e",
   "metadata": {},
   "outputs": [],
   "source": [
    "\n",
    "import pandas as pd\n",
    "import numpy as np\n",
    "import matplotlib.pyplot as plt\n",
    "import seaborn as sns\n",
    "from sklearn.model_selection import train_test_split, cross_val_score\n",
    "from sklearn.ensemble import RandomForestClassifier\n",
    "from sklearn.metrics import classification_report, confusion_matrix, accuracy_score, roc_curve, auc\n",
    "\n",
    "# Load the dataset\n",
    "df = pd.read_csv('A_train_balanced.csv')\n",
    "df.head()\n"
   ]
  },
  {
   "cell_type": "markdown",
   "id": "f8ba8e24",
   "metadata": {},
   "source": [
    "## Train-Test splitting"
   ]
  },
  {
   "cell_type": "code",
   "execution_count": null,
   "id": "52707ce3",
   "metadata": {},
   "outputs": [],
   "source": [
    "\n",
    "# Select features and target\n",
    "X = df[['Day_Shift', 'Place']]\n",
    "y = df['Crime_Occurred']\n",
    "\n",
    "# Convert categorical to numeric if needed\n",
    "X = pd.get_dummies(X, drop_first=True)\n",
    "\n",
    "# Train-test split\n",
    "X_train, X_val, y_train, y_val = train_test_split(X, y, test_size=0.2, random_state=42)\n"
   ]
  },
  {
   "cell_type": "markdown",
   "id": "2587a4fd",
   "metadata": {},
   "source": [
    "## looking for correlations"
   ]
  },
  {
   "cell_type": "code",
   "execution_count": null,
   "id": "2082a7e6",
   "metadata": {},
   "outputs": [],
   "source": [
    "\n",
    "plt.figure(figsize=(8,6))\n",
    "corr = X_train.join(y_train).corr()\n",
    "sns.heatmap(corr, annot=True, cmap='coolwarm')\n",
    "plt.title('Feature Correlation Heatmap')\n",
    "plt.show()\n"
   ]
  },
  {
   "cell_type": "markdown",
   "id": "e83aace1",
   "metadata": {},
   "source": [
    "## trying out attribute information"
   ]
  },
  {
   "cell_type": "code",
   "execution_count": null,
   "id": "2c300ffa",
   "metadata": {},
   "outputs": [],
   "source": [
    "\n",
    "y_train.value_counts().plot(kind='bar')\n",
    "plt.title('Target Class Distribution')\n",
    "plt.show()\n"
   ]
  },
  {
   "cell_type": "markdown",
   "id": "81802935",
   "metadata": {},
   "source": [
    "## create a pipeline"
   ]
  },
  {
   "cell_type": "code",
   "execution_count": null,
   "id": "d2e4664a",
   "metadata": {},
   "outputs": [],
   "source": [
    "\n",
    "# Random Forest pipeline\n",
    "rf = RandomForestClassifier(n_estimators=100, random_state=42)\n",
    "rf.fit(X_train, y_train)\n"
   ]
  },
  {
   "cell_type": "markdown",
   "id": "df206302",
   "metadata": {},
   "source": [
    "## selecting a desired model for Crime Prediction"
   ]
  },
  {
   "cell_type": "code",
   "execution_count": null,
   "id": "8f7ebaf2",
   "metadata": {},
   "outputs": [],
   "source": [
    "\n",
    "y_pred = rf.predict(X_val)\n",
    "print(\"Classification Report:\\n\", classification_report(y_val, y_pred))\n",
    "print(\"Accuracy Score:\", accuracy_score(y_val, y_pred))\n"
   ]
  },
  {
   "cell_type": "markdown",
   "id": "a3db5415",
   "metadata": {},
   "source": [
    "## evaluating the model"
   ]
  },
  {
   "cell_type": "code",
   "execution_count": null,
   "id": "6869e4eb",
   "metadata": {},
   "outputs": [],
   "source": [
    "\n",
    "cm = confusion_matrix(y_val, y_pred)\n",
    "sns.heatmap(cm, annot=True, fmt='d', cmap='Blues')\n",
    "plt.title('Confusion Matrix')\n",
    "plt.show()\n"
   ]
  },
  {
   "cell_type": "markdown",
   "id": "6d6dc54e",
   "metadata": {},
   "source": [
    "## using better evaluation technique - cross validation"
   ]
  },
  {
   "cell_type": "code",
   "execution_count": null,
   "id": "6f8e5b83",
   "metadata": {},
   "outputs": [],
   "source": [
    "\n",
    "cv_scores = cross_val_score(rf, X, y, cv=5)\n",
    "print(\"Cross Validation Scores:\", cv_scores)\n",
    "print(\"Mean CV Accuracy:\", cv_scores.mean())\n"
   ]
  },
  {
   "cell_type": "markdown",
   "id": "623f3f5e",
   "metadata": {},
   "source": [
    "## testing the model on test data"
   ]
  },
  {
   "cell_type": "code",
   "execution_count": null,
   "id": "96ee2a99",
   "metadata": {},
   "outputs": [],
   "source": [
    "\n",
    "# Feature Importance\n",
    "importances = rf.feature_importances_\n",
    "feature_names = X.columns\n",
    "plt.figure(figsize=(8,5))\n",
    "sns.barplot(x=importances, y=feature_names, palette=\"viridis\")\n",
    "plt.title(\"Feature Importance - Random Forest\")\n",
    "plt.show()\n",
    "\n",
    "# ROC Curve\n",
    "y_probs = rf.predict_proba(X_val)[:, 1]\n",
    "fpr, tpr, _ = roc_curve(y_val, y_probs)\n",
    "roc_auc = auc(fpr, tpr)\n",
    "\n",
    "plt.figure(figsize=(8,6))\n",
    "plt.plot(fpr, tpr, color='darkorange', lw=2, label=f'ROC curve (area = {roc_auc:.2f})')\n",
    "plt.plot([0, 1], [0, 1], color='navy', lw=2, linestyle='--')\n",
    "plt.xlabel('False Positive Rate')\n",
    "plt.ylabel('True Positive Rate')\n",
    "plt.title('ROC Curve - Random Forest')\n",
    "plt.legend(loc=\"lower right\")\n",
    "plt.show()\n"
   ]
  },
  {
   "cell_type": "markdown",
   "id": "0c5c2dc4",
   "metadata": {},
   "source": [
    "## using the model"
   ]
  },
  {
   "cell_type": "code",
   "execution_count": null,
   "id": "79611d6a",
   "metadata": {},
   "outputs": [],
   "source": [
    "\n",
    "# Example Prediction\n",
    "sample = X.sample(1, random_state=42)\n",
    "print(\"Sample Data:\", sample)\n",
    "print(\"Predicted Crime Occurrence:\", rf.predict(sample))\n"
   ]
  }
 ],
 "metadata": {},
 "nbformat": 4,
 "nbformat_minor": 5
}
