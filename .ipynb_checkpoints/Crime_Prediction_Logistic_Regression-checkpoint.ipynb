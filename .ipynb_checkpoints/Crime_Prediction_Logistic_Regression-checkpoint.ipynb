{
 "cells": [
  {
   "cell_type": "markdown",
   "id": "41cc6b5f",
   "metadata": {},
   "source": [
    "## Crime Prediction using Logistic Regression"
   ]
  },
  {
   "cell_type": "code",
   "execution_count": null,
   "id": "1d828983",
   "metadata": {},
   "outputs": [],
   "source": [
    "\n",
    "import pandas as pd\n",
    "import numpy as np\n",
    "import matplotlib.pyplot as plt\n",
    "import seaborn as sns\n",
    "from sklearn.model_selection import train_test_split, cross_val_score\n",
    "from sklearn.linear_model import LogisticRegression\n",
    "from sklearn.metrics import classification_report, confusion_matrix, accuracy_score, roc_curve, auc\n",
    "\n",
    "# Load the dataset\n",
    "df = pd.read_csv('DatasetA.csv')  # Replace with your dataset\n",
    "df.head()\n"
   ]
  },
  {
   "cell_type": "markdown",
   "id": "a2109d9c",
   "metadata": {},
   "source": [
    "## Train-Test splitting"
   ]
  },
  {
   "cell_type": "code",
   "execution_count": null,
   "id": "880c19d9",
   "metadata": {},
   "outputs": [],
   "source": [
    "\n",
    "# Select features and target\n",
    "X = df[['Day_Shift', 'Place']]\n",
    "y = df['Crime_Occurred']\n",
    "\n",
    "# Convert categorical to numeric if needed\n",
    "X = pd.get_dummies(X, drop_first=True)\n",
    "\n",
    "# Train-test split\n",
    "X_train, X_val, y_train, y_val = train_test_split(X, y, test_size=0.2, random_state=42)\n"
   ]
  },
  {
   "cell_type": "markdown",
   "id": "cf40e237",
   "metadata": {},
   "source": [
    "## looking for correlations"
   ]
  },
  {
   "cell_type": "code",
   "execution_count": null,
   "id": "d4e00044",
   "metadata": {},
   "outputs": [],
   "source": [
    "\n",
    "plt.figure(figsize=(8,6))\n",
    "corr = X_train.join(y_train).corr()\n",
    "sns.heatmap(corr, annot=True, cmap='coolwarm')\n",
    "plt.title('Feature Correlation Heatmap')\n",
    "plt.show()\n"
   ]
  },
  {
   "cell_type": "markdown",
   "id": "8564f397",
   "metadata": {},
   "source": [
    "## trying out attribute information"
   ]
  },
  {
   "cell_type": "code",
   "execution_count": null,
   "id": "d684b0c0",
   "metadata": {},
   "outputs": [],
   "source": [
    "\n",
    "y_train.value_counts().plot(kind='bar')\n",
    "plt.title('Target Class Distribution')\n",
    "plt.show()\n"
   ]
  },
  {
   "cell_type": "markdown",
   "id": "67d455af",
   "metadata": {},
   "source": [
    "## create a pipeline"
   ]
  },
  {
   "cell_type": "code",
   "execution_count": null,
   "id": "90f623c5",
   "metadata": {},
   "outputs": [],
   "source": [
    "\n",
    "# Logistic Regression pipeline\n",
    "lr = LogisticRegression(max_iter=1000)\n",
    "lr.fit(X_train, y_train)\n"
   ]
  },
  {
   "cell_type": "markdown",
   "id": "12ded97e",
   "metadata": {},
   "source": [
    "## selecting a desired model for Crime Prediction"
   ]
  },
  {
   "cell_type": "code",
   "execution_count": null,
   "id": "acd2a75f",
   "metadata": {},
   "outputs": [],
   "source": [
    "\n",
    "y_pred = lr.predict(X_val)\n",
    "print(\"Classification Report:\\n\", classification_report(y_val, y_pred))\n",
    "print(\"Accuracy Score:\", accuracy_score(y_val, y_pred))\n"
   ]
  },
  {
   "cell_type": "markdown",
   "id": "059648c1",
   "metadata": {},
   "source": [
    "## evaluating the model"
   ]
  },
  {
   "cell_type": "code",
   "execution_count": null,
   "id": "2bdae3ec",
   "metadata": {},
   "outputs": [],
   "source": [
    "\n",
    "cm = confusion_matrix(y_val, y_pred)\n",
    "sns.heatmap(cm, annot=True, fmt='d', cmap='Blues')\n",
    "plt.title('Confusion Matrix')\n",
    "plt.show()\n"
   ]
  },
  {
   "cell_type": "markdown",
   "id": "be499beb",
   "metadata": {},
   "source": [
    "## using better evaluation technique - cross validation"
   ]
  },
  {
   "cell_type": "code",
   "execution_count": null,
   "id": "5045c285",
   "metadata": {},
   "outputs": [],
   "source": [
    "\n",
    "cv_scores = cross_val_score(lr, X, y, cv=5)\n",
    "print(\"Cross Validation Scores:\", cv_scores)\n",
    "print(\"Mean CV Accuracy:\", cv_scores.mean())\n"
   ]
  },
  {
   "cell_type": "markdown",
   "id": "8befe4cb",
   "metadata": {},
   "source": [
    "## testing the model on test data"
   ]
  },
  {
   "cell_type": "code",
   "execution_count": null,
   "id": "dae132f9",
   "metadata": {},
   "outputs": [],
   "source": [
    "\n",
    "# Feature Importance (Coefficients)\n",
    "importance = lr.coef_[0]\n",
    "feature_names = X.columns\n",
    "plt.figure(figsize=(8,5))\n",
    "sns.barplot(x=importance, y=feature_names, palette=\"viridis\")\n",
    "plt.title(\"Feature Importance - Logistic Regression Coefficients\")\n",
    "plt.show()\n",
    "\n",
    "# ROC Curve\n",
    "y_probs = lr.predict_proba(X_val)[:, 1]\n",
    "fpr, tpr, _ = roc_curve(y_val, y_probs)\n",
    "roc_auc = auc(fpr, tpr)\n",
    "\n",
    "plt.figure(figsize=(8,6))\n",
    "plt.plot(fpr, tpr, color='darkorange', lw=2, label=f'ROC curve (area = {roc_auc:.2f})')\n",
    "plt.plot([0, 1], [0, 1], color='navy', lw=2, linestyle='--')\n",
    "plt.xlabel('False Positive Rate')\n",
    "plt.ylabel('True Positive Rate')\n",
    "plt.title('ROC Curve - Logistic Regression')\n",
    "plt.legend(loc=\"lower right\")\n",
    "plt.show()\n"
   ]
  },
  {
   "cell_type": "markdown",
   "id": "fa3ed50a",
   "metadata": {},
   "source": [
    "## using the model"
   ]
  },
  {
   "cell_type": "code",
   "execution_count": null,
   "id": "f076e09a",
   "metadata": {},
   "outputs": [],
   "source": [
    "\n",
    "# Example Prediction\n",
    "sample = X.sample(1, random_state=42)\n",
    "print(\"Sample Data:\", sample)\n",
    "print(\"Predicted Crime Occurrence:\", lr.predict(sample))\n"
   ]
  }
 ],
 "metadata": {},
 "nbformat": 4,
 "nbformat_minor": 5
}
